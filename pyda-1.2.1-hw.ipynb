{
 "cells": [
  {
   "cell_type": "markdown",
   "metadata": {},
   "source": [
    "## Задание 1"
   ]
  },
  {
   "cell_type": "markdown",
   "metadata": {},
   "source": [
    "Мы делаем MVP dating-сервиса, и у нас есть список парней и девушек (их число может варьироваться):"
   ]
  },
  {
   "cell_type": "code",
   "execution_count": 1,
   "metadata": {},
   "outputs": [],
   "source": [
    "boys = ['Peter', 'Alex', 'John', 'Arthur', 'Richard']\n",
    "girls = ['Kate', 'Liza', 'Kira', 'Emma', 'Trisha']"
   ]
  },
  {
   "cell_type": "markdown",
   "metadata": {},
   "source": [
    "Выдвигаем гипотезу: лучшие рекомендации мы получим, если просто отсортируем имена по алфавиту и познакомим людей с одинаковыми индексами после сортировки! \"Познакомить\" пары нам поможет функция zip, а в цикле распакуем zip-объект и выведем информацию в виде:\n",
    "\n",
    "Идеальные пары:  \n",
    "Alex и Emma  \n",
    "Arthur и Kate  \n",
    "John и Kira  \n",
    "Peter и Liza  \n",
    "Richard и Trisha  "
   ]
  },
  {
   "cell_type": "code",
   "execution_count": 6,
   "metadata": {},
   "outputs": [
    {
     "name": "stdout",
     "output_type": "stream",
     "text": [
      "Идеальные пары:\n",
      "Alex и Emma\n",
      "Arthur и Kate\n",
      "John и Kira\n",
      "Peter и Liza\n",
      "Richard и Trisha\n"
     ]
    }
   ],
   "source": [
    "boys=sorted(boys)\n",
    "girls=sorted(girls)\n",
    "ideal_pairs=zip(boys,girls)\n",
    "\n",
    "print('Идеальные пары:')\n",
    "for pair in ideal_pairs:\n",
    "    print(f'{pair[0]} и {pair[1]}')"
   ]
  },
  {
   "cell_type": "markdown",
   "metadata": {},
   "source": [
    "## Задание 2"
   ]
  },
  {
   "cell_type": "markdown",
   "metadata": {},
   "source": [
    "У нас есть список, содержащий информацию о среднедневной температуре в Фаренгейтах за недельный период по странам.\n",
    "Необходимо написать код, который рассчитает среднюю температуру за неделю в Цельсиях для каждой страны."
   ]
  },
  {
   "cell_type": "code",
   "execution_count": 7,
   "metadata": {},
   "outputs": [],
   "source": [
    "countries_temperature = [\n",
    " ['Thailand', [75.2, 77, 78.8, 73.4, 68, 75.2, 77]],\n",
    " ['Germany', [57.2, 55.4, 59, 59, 53.6, 55.4, 57.2]],\n",
    " ['Russia', [35.6, 37.4, 39.2, 41, 42.8, 39.2, 35.6]],\n",
    " ['Poland', [50, 50, 53.6, 57.2, 55.4, 55.4, 51.8]],\n",
    "]"
   ]
  },
  {
   "cell_type": "code",
   "execution_count": 12,
   "metadata": {},
   "outputs": [
    {
     "name": "stdout",
     "output_type": "stream",
     "text": [
      "Средняя температура за неделю в стране Thailand составила 23.86 градусов Цельсия\n",
      "Средняя температура за неделю в стране Germany составила 13.71 градусов Цельсия\n",
      "Средняя температура за неделю в стране Russia составила 3.71 градусов Цельсия\n",
      "Средняя температура за неделю в стране Poland составила 11.86 градусов Цельсия\n"
     ]
    }
   ],
   "source": [
    "for temp_list in countries_temperature:\n",
    "    avg_temp_F=sum(temp_list[1])/len(temp_list[1])\n",
    "    avg_temp_C=(avg_temp_F - 32) * 5 / 9\n",
    "    print(f'Средняя температура за неделю в стране {temp_list[0]} составила {round(avg_temp_C,2)} градусов Цельсия')"
   ]
  },
  {
   "cell_type": "markdown",
   "metadata": {},
   "source": [
    "## Задание 3"
   ]
  },
  {
   "cell_type": "markdown",
   "metadata": {},
   "source": [
    "Дан поток логов по количеству просмотренных страниц для каждого пользователя. Список отсортирован по ID пользователя. Вам необходимо написать алгоритм, который считает среднее значение просмотров на пользователя. \n",
    "Т. е. надо посчитать отношение суммы всех просмотров к количеству уникальных пользователей."
   ]
  },
  {
   "cell_type": "code",
   "execution_count": 13,
   "metadata": {},
   "outputs": [],
   "source": [
    "stream = [\n",
    "    '2018-01-01,user1,3',\n",
    "    '2018-01-07,user1,4',\n",
    "    '2018-03-29,user1,1',\n",
    "    '2018-04-04,user1,13',\n",
    "    '2018-01-05,user2,7',\n",
    "    '2018-06-14,user3,4',\n",
    "    '2018-07-02,user3,10',\n",
    "    '2018-03-21,user4,19',\n",
    "    '2018-03-22,user4,4',\n",
    "    '2018-04-22,user4,8',\n",
    "    '2018-05-03,user4,9',\n",
    "    '2018-05-11,user4,11',\n",
    "]"
   ]
  },
  {
   "cell_type": "code",
   "execution_count": 35,
   "metadata": {},
   "outputs": [
    {
     "name": "stdout",
     "output_type": "stream",
     "text": [
      "Уникальных пользователей 4 - сумма всех просмотров 93\n",
      "Cреднее значение просмотров на пользователя 23.25\n"
     ]
    }
   ],
   "source": [
    "total_sum=0\n",
    "users_list=[]\n",
    "for record in stream:\n",
    "    record_list=record.split(',')\n",
    "    total_sum += int(record_list[2]) \n",
    "    if record_list[1] not in users_list:\n",
    "        users_list.append(record_list[1])\n",
    "print(f'Уникальных пользователей {len(users_list)} - сумма всех просмотров {total_sum}\\n\\\n",
    "Cреднее значение просмотров на пользователя {round(total_sum/len(users_list),2)}')"
   ]
  },
  {
   "cell_type": "markdown",
   "metadata": {},
   "source": [
    "## Задание 4"
   ]
  },
  {
   "cell_type": "markdown",
   "metadata": {},
   "source": [
    "Дана статистика рекламных кампаний по дням. Напишите алгоритм, который по паре дата-кампания ищет значение численного столбца. \n",
    "Т. е. для даты '2018-01-01' и 'google' нужно получить число 25. \n",
    "Считайте, что все комбинации дата-кампания уникальны."
   ]
  },
  {
   "cell_type": "code",
   "execution_count": 38,
   "metadata": {},
   "outputs": [],
   "source": [
    "stats = [\n",
    "    ['2018-01-01', 'google', 25],\n",
    "    ['2018-01-01', 'yandex', 65],\n",
    "    ['2018-01-01', 'market', 89],\n",
    "    ['2018-01-02', 'google', 574],\n",
    "    ['2018-01-02', 'yandex', 249],\n",
    "    ['2018-01-02', 'market', 994],\n",
    "    ['2018-01-03', 'google', 1843],\n",
    "    ['2018-01-03', 'yandex', 1327],\n",
    "    ['2018-01-03', 'market', 1764],\n",
    "]"
   ]
  },
  {
   "cell_type": "code",
   "execution_count": 42,
   "metadata": {},
   "outputs": [
    {
     "name": "stdout",
     "output_type": "stream",
     "text": [
      "Введите дату для поиска: 2018-01-03\n",
      "Введите название компании для поиска: google\n",
      "Для введенной Вами даты и компании значение численного столбца составило: 1843\n"
     ]
    }
   ],
   "source": [
    "date=input('Введите дату для поиска: ')\n",
    "company=input('Введите название компании для поиска: ')\n",
    "for record in stats:\n",
    "    if record[0] == date and record[1] == company:\n",
    "        print(f'Для введенной Вами даты и компании значение численного столбца составило: {record[2]}')\n",
    "        break"
   ]
  },
  {
   "cell_type": "code",
   "execution_count": null,
   "metadata": {},
   "outputs": [],
   "source": []
  }
 ],
 "metadata": {
  "kernelspec": {
   "display_name": "Python 3",
   "language": "python",
   "name": "python3"
  },
  "language_info": {
   "codemirror_mode": {
    "name": "ipython",
    "version": 3
   },
   "file_extension": ".py",
   "mimetype": "text/x-python",
   "name": "python",
   "nbconvert_exporter": "python",
   "pygments_lexer": "ipython3",
   "version": "3.7.1"
  }
 },
 "nbformat": 4,
 "nbformat_minor": 2
}
